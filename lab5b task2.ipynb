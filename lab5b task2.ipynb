{
 "cells": [
  {
   "cell_type": "code",
   "execution_count": null,
   "id": "5827035e-5306-47bc-b768-ef2cbba82dd7",
   "metadata": {},
   "outputs": [],
   "source": [
    "import pandas as pd\n",
    "import numpy as np\n",
    "from sklearn.linear_model import LinearRegression\n",
    "import matplotlib.pyplot as plt\n",
    "\n",
    "data = {\n",
    "    'area': [2600, 3000, 3200, 3600, 4000],\n",
    "    'price': [550000, 565000, 610000, 680000, 725000]\n",
    "}\n",
    "\n",
    "df = pd.DataFrame(data)\n",
    "\n",
    "print(df)\n",
    "\n",
    "plt.xlabel('Area (sq ft)')\n",
    "plt.ylabel('Price')\n",
    "plt.scatter(df.area, df.price, color='red', marker='+')  \n",
    "\n",
    "new_df = df.drop('price', axis='columns')  \n",
    "price = df.price  \n",
    "\n",
    "print(new_df)\n",
    "print(price)\n",
    "\n",
    "reg = LinearRegression()\n",
    "reg.fit(new_df, price)  \n",
    "\n",
    "print(f\"Coefficient: {reg.coef_}\") \n",
    "print(f\"Intercept: {reg.intercept_}\")  \n",
    "\n",
    "areas_to_predict = pd.DataFrame({'area': [5000, 8000, 9000]})\n",
    "predicted_prices = reg.predict(areas_to_predict)\n",
    "\n",
    "for area, price in zip(areas_to_predict['area'], predicted_prices):\n",
    "    print(f\"Predicted price for area {area} sq ft is {price}\")\n",
    "\n",
    "plt.plot(df.area, reg.predict(new_df), color='blue', label='Regression Line') \n",
    "plt.legend()\n",
    "plt.show()\n"
   ]
  }
 ],
 "metadata": {
  "kernelspec": {
   "display_name": "Python 3 (ipykernel)",
   "language": "python",
   "name": "python3"
  },
  "language_info": {
   "codemirror_mode": {
    "name": "ipython",
    "version": 3
   },
   "file_extension": ".py",
   "mimetype": "text/x-python",
   "name": "python",
   "nbconvert_exporter": "python",
   "pygments_lexer": "ipython3",
   "version": "3.12.7"
  }
 },
 "nbformat": 4,
 "nbformat_minor": 5
}
